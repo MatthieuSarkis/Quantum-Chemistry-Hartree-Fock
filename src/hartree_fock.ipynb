{
 "cells": [
  {
   "cell_type": "markdown",
   "metadata": {},
   "source": [
    "# Hartree Fock \n",
    "\n",
    "FC = eSC\n",
    "\n",
    "F = T + V_NE + V_EE\n",
    "\n",
    "S = overlap matrix\n",
    "\n",
    "H2 and then H2O\n",
    "\n",
    "T = Kinetic energy matrix"
   ]
  },
  {
   "cell_type": "code",
   "execution_count": 13,
   "metadata": {},
   "outputs": [],
   "source": [
    "import sys\n",
    "import numpy as np\n",
    "from typing import List"
   ]
  },
  {
   "cell_type": "markdown",
   "metadata": {},
   "source": [
    "We consider H_2 molecule first\n",
    "There is a 1s orbital per hydrogen atom\n",
    "Each of them is given by a linear combination of basis functions, here Gaussians."
   ]
  },
  {
   "cell_type": "code",
   "execution_count": 14,
   "metadata": {},
   "outputs": [],
   "source": [
    "class primitive_gaussian():\n",
    "\n",
    "    def __init__(self, \n",
    "                 alpha: float,\n",
    "                 coeff: float,\n",
    "                 coordinates: List,\n",
    "                 l1: int = 0,\n",
    "                 l2: int = 0,\n",
    "                 l3: int = 0,\n",
    "                 ) -> None:\n",
    "        \"\"\" Constructor function for the primitive_gaussian class.\n",
    "\n",
    "        l1, l2, l3 are equal to 0 for an s orbital. (focus on H_2 molecule first).\n",
    "        \"\"\"\n",
    "\n",
    "        self.alpha = alpha\n",
    "        self.coeff = coeff\n",
    "        self.coordinates = np.array(coordinates)\n",
    "        self.l1, self.l2, self.l3 = l1, l2, l3\n",
    "        self.A = (2.0 * alpha / np.pi)**0.75  # normalization factor, + other temrs for l1, l2, l3 > 0"
   ]
  },
  {
   "cell_type": "code",
   "execution_count": 15,
   "metadata": {},
   "outputs": [],
   "source": [
    "def overlap(molecule: List) -> None:\n",
    "    nbasis = len(molecule)\n",
    "\n",
    "    S = np.zeros([nbasis, nbasis])\n",
    "\n",
    "    for i in range(nbasis):\n",
    "        for j in range(nbasis):\n",
    "            nprimitives_i = len(molecule[i])\n",
    "            nprimitives_j = len(molecule[j])\n",
    "\n",
    "            for k in range(nprimitives_i):\n",
    "                for l in range(nprimitives_j):\n",
    "                    \n",
    "                    # normalization constant of the total overlap\n",
    "                    N = molecule[i][k].A * molecule[j][l].A\n",
    "                    p = molecule[i][k].alpha + molecule[j][l].alpha\n",
    "                    q = molecule[i][k].alpha * molecule[j][l].alpha / p\n",
    "                    Q = molecule[i][k].coordinates - molecule[j][l].coordinates\n",
    "                    Q2 = np.dot(Q, Q)\n",
    "                    \n",
    "                    # this expression will be more complicated with non trivial l quantum number.\n",
    "                    S[i, j] += N * molecule[i][k].coeff * molecule[j][l].coeff * np.exp(-q * Q2) * (np.pi / p) ** (3/2) \n",
    "\n",
    "    return S\n"
   ]
  },
  {
   "cell_type": "code",
   "execution_count": null,
   "metadata": {},
   "outputs": [],
   "source": [
    "def kinetic(molecule: List) -> None:\n",
    "    \n",
    "    nbasis = len(molecule)\n",
    "\n",
    "    S = np.zeros([nbasis, nbasis])\n",
    "\n",
    "    for i in range(nbasis):\n",
    "        for j in range(nbasis):\n",
    "            nprimitives_i = len(molecule[i])\n",
    "            nprimitives_j = len(molecule[j])\n",
    "\n",
    "            for k in range(nprimitives_i):\n",
    "                for l in range(nprimitives_j):\n",
    "                    \n",
    "                    # normalization constant of the total overlap\n",
    "                    N = molecule[i][k].A * molecule[j][l].A\n",
    "                    p = molecule[i][k].alpha + molecule[j][l].alpha\n",
    "                    q = molecule[i][k].alpha * molecule[j][l].alpha / p\n",
    "                    Q = molecule[i][k].coordinates - molecule[j][l].coordinates\n",
    "                    Q2 = np.dot(Q, Q)\n",
    "                    \n",
    "                    # this expression will be more complicated with non trivial l quantum number.\n",
    "                    S[i, j] += N * molecule[i][k].coeff * molecule[j][l].coeff * np.exp(-q * Q2) * (np.pi / p) ** (3/2) \n",
    "\n",
    "    return S\n"
   ]
  },
  {
   "cell_type": "code",
   "execution_count": 11,
   "metadata": {},
   "outputs": [
    {
     "name": "stdout",
     "output_type": "stream",
     "text": [
      "STO-3G:\n",
      " [[1.         0.72864938]\n",
      " [0.72864938 1.        ]]\n"
     ]
    }
   ],
   "source": [
    "# STO-3G basis for 1s orbital on hydrogen\n",
    "H1_pg1a = primitive_gaussian(alpha=0.3425250914E+01, \n",
    "                             coeff=0.1543289673E+00, \n",
    "                             coordinates=[0, 0, 0],\n",
    "                             l1=0,\n",
    "                             l2=0,\n",
    "                             l3=0)\n",
    "H1_pg1b = primitive_gaussian(alpha=0.6239137298E+00, \n",
    "                             coeff=0.5353281423E+00, \n",
    "                             coordinates=[0, 0, 0],\n",
    "                             l1=0,\n",
    "                             l2=0,\n",
    "                             l3=0)\n",
    "H1_pg1c = primitive_gaussian(alpha=0.1688554040E+00, \n",
    "                             coeff=0.4446345422E+00, \n",
    "                             coordinates=[0, 0, 0],\n",
    "                             l1=0,\n",
    "                             l2=0,\n",
    "                             l3=0)\n",
    "\n",
    "H2_pg1a = primitive_gaussian(alpha=0.3425250914E+01, \n",
    "                             coeff=0.1543289673E+00, \n",
    "                             coordinates=[1.2, 0, 0],\n",
    "                             l1=0,\n",
    "                             l2=0,\n",
    "                             l3=0)\n",
    "H2_pg1b = primitive_gaussian(alpha=0.6239137298E+00, \n",
    "                             coeff=0.5353281423E+00, \n",
    "                             coordinates=[1.2, 0, 0],\n",
    "                             l1=0,\n",
    "                             l2=0,\n",
    "                             l3=0)\n",
    "H2_pg1c = primitive_gaussian(alpha=0.1688554040E+00, \n",
    "                             coeff=0.4446345422E+00, \n",
    "                             coordinates=[1.2, 0, 0],\n",
    "                             l1=0,\n",
    "                             l2=0,\n",
    "                             l3=0)\n",
    "H1_1s = [H1_pg1a, H1_pg1b, H1_pg1c] # 1s orbital on the first hydrogen atom\n",
    "H2_1s = [H2_pg1a, H2_pg1b, H2_pg1c] # 1s orbital on the second hydrogen atom\n",
    "molecule = [H1_1s, H2_1s]\n",
    "print(\"STO-3G:\\n\", overlap(molecule))"
   ]
  },
  {
   "cell_type": "code",
   "execution_count": 12,
   "metadata": {},
   "outputs": [
    {
     "name": "stdout",
     "output_type": "stream",
     "text": [
      "6-31G:\n",
      " [[1.         0.65829197 0.55310378 0.54474596]\n",
      " [0.65829197 1.         0.54474596 0.89036838]\n",
      " [0.55310378 0.54474596 1.         0.65829197]\n",
      " [0.54474596 0.89036838 0.65829197 1.        ]]\n"
     ]
    }
   ],
   "source": [
    "# 6-31G basis for 1s and 2s orbitals on hydrogen\n",
    "\n",
    "H1_pg1a = primitive_gaussian(alpha=0.1873113696E+02, \n",
    "                             coeff=0.3349460434E-01, \n",
    "                             coordinates=[0, 0, 0],\n",
    "                             l1=0,\n",
    "                             l2=0,\n",
    "                             l3=0)\n",
    "H1_pg1b = primitive_gaussian(alpha=0.2825394365E+01, \n",
    "                             coeff=0.2347269535E+00, \n",
    "                             coordinates=[0, 0, 0],\n",
    "                             l1=0,\n",
    "                             l2=0,\n",
    "                             l3=0)\n",
    "H1_pg1c = primitive_gaussian(alpha=0.6401216923E+00, \n",
    "                             coeff=0.8137573261E+00, \n",
    "                             coordinates=[0, 0, 0],\n",
    "                             l1=0,\n",
    "                             l2=0,\n",
    "                             l3=0)\n",
    "H1_pg2a = primitive_gaussian(alpha=0.1612777588E+00, \n",
    "                             coeff=1.0000000, \n",
    "                             coordinates=[0, 0, 0],\n",
    "                             l1=0,\n",
    "                             l2=0,\n",
    "                             l3=0)\n",
    "\n",
    "H2_pg1a = primitive_gaussian(alpha=0.1873113696E+02, \n",
    "                             coeff=0.3349460434E-01, \n",
    "                             coordinates=[1.2, 0, 0],\n",
    "                             l1=0,\n",
    "                             l2=0,\n",
    "                             l3=0)\n",
    "\n",
    "H2_pg1b = primitive_gaussian(alpha=0.2825394365E+01, \n",
    "                             coeff=0.2347269535E+00, \n",
    "                             coordinates=[1.2, 0, 0],\n",
    "                             l1=0,\n",
    "                             l2=0,\n",
    "                             l3=0)\n",
    "H2_pg1c = primitive_gaussian(alpha=0.6401216923E+00, \n",
    "                             coeff=0.8137573261E+00, \n",
    "                             coordinates=[1.2, 0, 0],\n",
    "                             l1=0,\n",
    "                             l2=0,\n",
    "                             l3=0)\n",
    "H2_pg2a = primitive_gaussian(alpha=0.1612777588E+00, \n",
    "                             coeff=1.0000000, \n",
    "                             coordinates=[1.2, 0, 0],\n",
    "                             l1=0,\n",
    "                             l2=0,\n",
    "                             l3=0)\n",
    "\n",
    "H1_1s = [H1_pg1a, H1_pg1b, H1_pg1c] # 1s orbital on the first hydrogen atom\n",
    "H1_2s = [H1_pg2a] # 2s orbital on the first hydrogen atom\n",
    "H2_1s = [H2_pg1a, H2_pg1b, H2_pg1c] # 1s orbital on the second hydrogen atom\n",
    "H2_2s = [H2_pg2a] # 2s orbital on the second hydrogen atom\n",
    "\n",
    "molecule = [H1_1s, H1_2s, H2_1s, H2_2s]\n",
    "print(\"6-31G:\\n\", overlap(molecule))"
   ]
  },
  {
   "cell_type": "code",
   "execution_count": null,
   "metadata": {},
   "outputs": [],
   "source": []
  }
 ],
 "metadata": {
  "interpreter": {
   "hash": "63d735a0b43cc2c42b66c060d1cafa84e9329ba77a9d67246c4dc577f343791a"
  },
  "kernelspec": {
   "display_name": "Python 3.9.5 64-bit ('.env': venv)",
   "name": "python3"
  },
  "language_info": {
   "codemirror_mode": {
    "name": "ipython",
    "version": 3
   },
   "file_extension": ".py",
   "mimetype": "text/x-python",
   "name": "python",
   "nbconvert_exporter": "python",
   "pygments_lexer": "ipython3",
   "version": "3.9.5"
  },
  "orig_nbformat": 4
 },
 "nbformat": 4,
 "nbformat_minor": 2
}