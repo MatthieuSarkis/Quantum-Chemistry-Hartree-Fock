{
 "metadata": {
  "language_info": {
   "codemirror_mode": {
    "name": "ipython",
    "version": 3
   },
   "file_extension": ".py",
   "mimetype": "text/x-python",
   "name": "python",
   "nbconvert_exporter": "python",
   "pygments_lexer": "ipython3",
   "version": "3.9.5"
  },
  "orig_nbformat": 4,
  "kernelspec": {
   "name": "python3",
   "display_name": "Python 3.9.5 64-bit ('.env': venv)"
  },
  "interpreter": {
   "hash": "74cea05b82a77631fae9d4009e02d0cc35915455ae8cc7608275e5214d476f90"
  }
 },
 "nbformat": 4,
 "nbformat_minor": 2,
 "cells": [
  {
   "cell_type": "code",
   "execution_count": 2,
   "metadata": {},
   "outputs": [],
   "source": [
    "import sys\n",
    "import numpy\n",
    "from typing import Tuple"
   ]
  },
  {
   "source": [
    "We consider H_2 molecule first\n",
    "There is a 1s orbital per hydrogen atom\n",
    "Each of them is given by a linear combination of basis functions, here Gaussians."
   ],
   "cell_type": "markdown",
   "metadata": {}
  },
  {
   "cell_type": "code",
   "execution_count": null,
   "metadata": {},
   "outputs": [],
   "source": [
    "class primitive_gaussian():\n",
    "\n",
    "    def __init__(self, \n",
    "                 alpha: Float,\n",
    "                 coeff: Float,\n",
    "                 coordinates: Tuple,\n",
    "                 l1: int = 0,\n",
    "                 l2: int = 0,\n",
    "                 l3: int = 0,\n",
    "                 ) -> None:\n",
    "\n",
    "        self.alpha = alpha\n",
    "        self.coeff = coeff\n",
    "        self.coordinates = coordinates\n",
    "        self.l1, self.l2, self.l3 = l1, l2, l3\n",
    "        self.A = (2.0 * alpha / math.pi)**0.75  # normalization factor, + other temrs for l1, l2, l3 > 0"
   ]
  },
  {
   "cell_type": "code",
   "execution_count": null,
   "metadata": {},
   "outputs": [],
   "source": [
    "H1_pg1a = primitive_gaussian()\n",
    "\n",
    "H1_1s = [H1_pg1a, H1_pg1b, H1_pg1c]\n",
    "H2_1s = [H2_pg1a, H2_pg1b, H2_pg1c] \n",
    "\n",
    "molecule = [H1_1s, H2_1s]"
   ]
  }
 ]
}