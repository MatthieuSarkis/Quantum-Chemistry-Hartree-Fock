{
 "metadata": {
  "language_info": {
   "codemirror_mode": {
    "name": "ipython",
    "version": 3
   },
   "file_extension": ".py",
   "mimetype": "text/x-python",
   "name": "python",
   "nbconvert_exporter": "python",
   "pygments_lexer": "ipython3",
   "version": "3.9.5"
  },
  "orig_nbformat": 4,
  "kernelspec": {
   "name": "python3",
   "display_name": "Python 3.9.5 64-bit ('.env': venv)"
  },
  "interpreter": {
   "hash": "74cea05b82a77631fae9d4009e02d0cc35915455ae8cc7608275e5214d476f90"
  }
 },
 "nbformat": 4,
 "nbformat_minor": 2,
 "cells": [
  {
   "cell_type": "code",
   "execution_count": 1,
   "metadata": {},
   "outputs": [],
   "source": [
    "def xyz_reader(file_name):\n",
    "    file = open(file_name, 'r')\n",
    "\n",
    "    number_of_atoms = 0\n",
    "    atom_type = []\n",
    "    atom_coordinates = []\n",
    "\n",
    "    for idx, line in enumerate(file):\n",
    "        if idx == 0:\n",
    "            try:\n",
    "                number_of_atoms = line.split()[0]\n",
    "            except:\n",
    "                print(\"file not in correct format.\")\n",
    "        \n",
    "        if idx == 1:\n",
    "            continue\n",
    "\n",
    "        if idx != 0:\n",
    "            split = line.split()\n",
    "            atom = split[0]\n",
    "            coordinates = [float(split[1]),\n",
    "                           float(split[2]),\n",
    "                           float(split[3])]\n",
    "            atom_type.append(atom)\n",
    "            atom_coordinates.append(coordinates)\n",
    "\n",
    "    file.close()\n",
    "\n",
    "    return number_of_atoms, atom_type, atom_coordinates"
   ]
  },
  {
   "cell_type": "code",
   "execution_count": 3,
   "metadata": {},
   "outputs": [],
   "source": [
    "file_name = \"../data/xyz/HeH.xyz\"\n",
    "number_of_atoms, atom_type, atom_coordinates = xyz_reader(file_name)"
   ]
  },
  {
   "cell_type": "code",
   "execution_count": 4,
   "metadata": {},
   "outputs": [
    {
     "output_type": "execute_result",
     "data": {
      "text/plain": [
       "['He', 'H']"
      ]
     },
     "metadata": {},
     "execution_count": 4
    }
   ],
   "source": [
    "atom_type"
   ]
  },
  {
   "cell_type": "code",
   "execution_count": 5,
   "metadata": {},
   "outputs": [
    {
     "output_type": "execute_result",
     "data": {
      "text/plain": [
       "[[0.0, 0.0, 0.0], [0.0, 0.0, 1.4632]]"
      ]
     },
     "metadata": {},
     "execution_count": 5
    }
   ],
   "source": [
    "atom_coordinates"
   ]
  },
  {
   "cell_type": "code",
   "execution_count": null,
   "metadata": {},
   "outputs": [],
   "source": []
  }
 ]
}