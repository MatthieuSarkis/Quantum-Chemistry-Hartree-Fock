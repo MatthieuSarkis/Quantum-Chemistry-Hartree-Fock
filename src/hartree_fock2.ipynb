{
 "cells": [
  {
   "cell_type": "code",
   "execution_count": 12,
   "metadata": {},
   "outputs": [],
   "source": [
    "import numpy as np\n",
    "from numpy import *\n",
    "import scipy\n",
    "from scipy.special import erf"
   ]
  },
  {
   "cell_type": "code",
   "execution_count": 13,
   "metadata": {},
   "outputs": [],
   "source": [
    "def xyz_reader(file_name):\n",
    "    file = open(file_name, 'r')\n",
    "\n",
    "    number_of_atoms = 0\n",
    "    atom_type = []\n",
    "    atom_coordinates = []\n",
    "\n",
    "    for idx, line in enumerate(file):\n",
    "        if idx == 0:\n",
    "            try:\n",
    "                number_of_atoms = line.split()[0]\n",
    "            except:\n",
    "                print(\"file not in correct format.\")\n",
    "        \n",
    "        if idx == 1:\n",
    "            continue\n",
    "\n",
    "        if idx != 0:\n",
    "            split = line.split()\n",
    "            atom = split[0]\n",
    "            coordinates = [float(split[1]),\n",
    "                           float(split[2]),\n",
    "                           float(split[3])]\n",
    "            atom_type.append(atom)\n",
    "            atom_coordinates.append(coordinates)\n",
    "\n",
    "    file.close()\n",
    "\n",
    "    return number_of_atoms, atom_type, atom_coordinates"
   ]
  },
  {
   "cell_type": "code",
   "execution_count": 14,
   "metadata": {},
   "outputs": [],
   "source": [
    "file_name = \"../data/xyz/HeH.xyz\"\n",
    "number_of_atoms, atoms, atom_coordinates = xyz_reader(file_name)"
   ]
  },
  {
   "cell_type": "code",
   "execution_count": 15,
   "metadata": {},
   "outputs": [
    {
     "data": {
      "text/plain": [
       "['He', 'H']"
      ]
     },
     "execution_count": 15,
     "metadata": {},
     "output_type": "execute_result"
    }
   ],
   "source": [
    "atoms"
   ]
  },
  {
   "cell_type": "code",
   "execution_count": 16,
   "metadata": {},
   "outputs": [
    {
     "data": {
      "text/plain": [
       "[[0.0, 0.0, 0.0], [0.0, 0.0, 1.4632]]"
      ]
     },
     "execution_count": 16,
     "metadata": {},
     "output_type": "execute_result"
    }
   ],
   "source": [
    "atom_coordinates"
   ]
  },
  {
   "cell_type": "code",
   "execution_count": 17,
   "metadata": {},
   "outputs": [],
   "source": [
    "STOnG = 3\n",
    "\n",
    "zeta_dict = {'H': [1.24],\n",
    "             'He': [2.0925],\n",
    "             'Li': [2.69, 0.80],\n",
    "             'Be': [3.68, 1.15],\n",
    "             'B': [4.68, 1.50],\n",
    "             'C': [5.67, 1.72]}\n",
    "\n",
    "max_quantum_number = {'H': 1,\n",
    "                      'He': 1,\n",
    "                      'Li': 2,\n",
    "                      'Be': 2,\n",
    "                      'C': 2}\n",
    "\n",
    "D = np.array([[0.444635, 0.535328, 0.154329],\n",
    "              [0.700115, 0.399513, -0.0999672]])\n",
    "\n",
    "alpha = np.array([[0.109818, 0.405771, 2.22766],\n",
    "                  [0.0751386, 0.231031, 0.994203]])\n",
    "\n",
    "B = 0\n",
    "for atom in atoms:\n",
    "    B += max_quantum_number[atom]\n"
   ]
  },
  {
   "cell_type": "code",
   "execution_count": 18,
   "metadata": {},
   "outputs": [],
   "source": [
    "N = 2\n",
    "\n",
    "charge_dict = {'H': 1,\n",
    "               'He': 2,\n",
    "               'Li': 3,\n",
    "               'Be': 4,\n",
    "               'B': 5,\n",
    "               'C': 6,\n",
    "               'N': 7,\n",
    "               'O': 8,\n",
    "               'F': 9,\n",
    "               'Ne': 10}"
   ]
  },
  {
   "cell_type": "code",
   "execution_count": 1,
   "metadata": {},
   "outputs": [],
   "source": [
    "def gauss_product(gauss_A, gauss_B):\n",
    "    a, Ra = gauss_A\n",
    "    b, Rb = gauss_B\n",
    "    p = a + b\n",
    "    diff = np.linalg.norm(Ra - Rb)**2\n",
    "    N = (4 * a * b / (np.pi**2))**0.75\n",
    "    K = N * exp(-a * b / p * diff)\n",
    "    Rp = (a * Ra + b * Rb) / p\n",
    "    \n",
    "    return p, diff, K, Rp"
   ]
  },
  {
   "cell_type": "code",
   "execution_count": 3,
   "metadata": {},
   "outputs": [],
   "source": [
    "def overlap(A, B):\n",
    "    p, diff, K, Rp = gauss_product(A, B)\n",
    "    prefactor = (np.pi / p)**1.5\n",
    "    return prefactor * K\n",
    "\n",
    "def kinetic(A, B):\n",
    "    p, diff, K, Rp = gauss_product(A, B)\n",
    "    prefactor = (np.pi / p)**1.5\n",
    "    \n",
    "    a, Ra = A\n",
    "    b, Rb = B\n",
    "    reduced_exponent = a * b / p\n",
    "    return reduced_exponent * (3 - 2 * reduced_exponent * diff) * prefactor * K"
   ]
  },
  {
   "cell_type": "code",
   "execution_count": 4,
   "metadata": {},
   "outputs": [],
   "source": [
    "def Fo(t):\n",
    "    if t == 0:\n",
    "        return 1\n",
    "    else:\n",
    "        return (0.5 * (np.pi / t)**0.5) * erf(t**0.5)"
   ]
  },
  {
   "cell_type": "code",
   "execution_count": 5,
   "metadata": {},
   "outputs": [],
   "source": [
    "def potential(A, B, atom_idx):\n",
    "    p, diff, K, Rp = gauss_product(A, B)\n",
    "    Rc = atom_coordinates[atom_idx]\n",
    "    Zc = charge_dict[atoms[atom_idx]]\n",
    "    \n",
    "    return (-2 * np.pi * Zc / p) * K * Fo(p * np.linalg.norm(Rp - Rc)**2)"
   ]
  },
  {
   "cell_type": "code",
   "execution_count": 6,
   "metadata": {},
   "outputs": [],
   "source": [
    "def multi(A, B, C, D):\n",
    "    p, diff_ab, K_ab, Rp = gauss_product(A, B)\n",
    "    q, diff_cd, K_cd, Rq = gauss_product(C, D)\n",
    "    multi_prefactor = 2 * np.pi**2.5 * (p * q * (p + q)**0.5)**-1\n",
    "    \n",
    "    return multi_prefactor * K_ab * K_cd * Fo(p * q / (p + q)*np.linalg.norm(Rp - Rq)**2)"
   ]
  },
  {
   "cell_type": "code",
   "execution_count": null,
   "metadata": {},
   "outputs": [],
   "source": [
    "S = np.zeros((B, B))\n",
    "T = np.zeros((B, B))\n",
    "V = np.zeros((B, B))\n",
    "multi_electron_tensor = np.zeros((B, B))\n",
    "\n",
    "for idx_a, val_a in enumerate(atoms):\n",
    "    \n",
    "    Za = charge_dict[val_a]\n",
    "    Ra = atom_coordinates[idx_a]\n",
    "    \n",
    "    for m in range(max_quantum_number[val_a]):\n",
    "        "
   ]
  }
 ],
 "metadata": {
  "interpreter": {
   "hash": "63d735a0b43cc2c42b66c060d1cafa84e9329ba77a9d67246c4dc577f343791a"
  },
  "kernelspec": {
   "display_name": "Python 3.9.5 64-bit ('.env': venv)",
   "name": "python3"
  },
  "language_info": {
   "codemirror_mode": {
    "name": "ipython",
    "version": 3
   },
   "file_extension": ".py",
   "mimetype": "text/x-python",
   "name": "python",
   "nbconvert_exporter": "python",
   "pygments_lexer": "ipython3",
   "version": "3.9.5"
  },
  "orig_nbformat": 4
 },
 "nbformat": 4,
 "nbformat_minor": 2
}