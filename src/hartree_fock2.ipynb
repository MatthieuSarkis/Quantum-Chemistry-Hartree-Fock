{
 "cells": [
  {
   "cell_type": "code",
   "execution_count": 61,
   "metadata": {},
   "outputs": [],
   "source": [
    "import numpy as np\n",
    "from scipy.special import erf"
   ]
  },
  {
   "cell_type": "code",
   "execution_count": 77,
   "metadata": {},
   "outputs": [],
   "source": [
    "def xyz_reader(file_name):\n",
    "    file = open(file_name, 'r')\n",
    "\n",
    "    number_of_atoms = 0\n",
    "    atom_type = []\n",
    "    atom_coordinates = []\n",
    "\n",
    "    for idx, line in enumerate(file):\n",
    "        if idx == 0:\n",
    "            try:\n",
    "                number_of_atoms = int(line.split()[0])\n",
    "            except:\n",
    "                print(\"file not in correct format.\")\n",
    "        \n",
    "        if idx == 1:\n",
    "            continue\n",
    "\n",
    "        if idx != 0:\n",
    "            split = line.split()\n",
    "            atom = split[0]\n",
    "            coordinates = [float(split[1]),\n",
    "                           float(split[2]),\n",
    "                           float(split[3])]\n",
    "            atom_type.append(atom)\n",
    "            atom_coordinates.append(coordinates)\n",
    "\n",
    "    file.close()\n",
    "\n",
    "    return number_of_atoms, atom_type, atom_coordinates"
   ]
  },
  {
   "cell_type": "code",
   "execution_count": 78,
   "metadata": {},
   "outputs": [],
   "source": [
    "file_name = \"../data/xyz/HeH.xyz\"\n",
    "number_of_atoms, atoms, atom_coordinates = xyz_reader(file_name)"
   ]
  },
  {
   "cell_type": "code",
   "execution_count": 79,
   "metadata": {},
   "outputs": [
    {
     "data": {
      "text/plain": [
       "['He', 'H']"
      ]
     },
     "execution_count": 79,
     "metadata": {},
     "output_type": "execute_result"
    }
   ],
   "source": [
    "atoms"
   ]
  },
  {
   "cell_type": "code",
   "execution_count": 80,
   "metadata": {},
   "outputs": [
    {
     "data": {
      "text/plain": [
       "[[0.0, 0.0, 0.0], [0.0, 0.0, 1.4632]]"
      ]
     },
     "execution_count": 80,
     "metadata": {},
     "output_type": "execute_result"
    }
   ],
   "source": [
    "atom_coordinates"
   ]
  },
  {
   "cell_type": "code",
   "execution_count": 81,
   "metadata": {},
   "outputs": [
    {
     "data": {
      "text/plain": [
       "2"
      ]
     },
     "execution_count": 81,
     "metadata": {},
     "output_type": "execute_result"
    }
   ],
   "source": [
    "number_of_atoms"
   ]
  },
  {
   "cell_type": "code",
   "execution_count": 82,
   "metadata": {},
   "outputs": [],
   "source": [
    "STOnG = 3\n",
    "\n",
    "zeta_dict = {'H': [1.24],\n",
    "             'He': [2.0925],\n",
    "             'Li': [2.69, 0.80],\n",
    "             'Be': [3.68, 1.15],\n",
    "             'B': [4.68, 1.50],\n",
    "             'C': [5.67, 1.72]}\n",
    "\n",
    "max_quantum_number = {'H': 1,\n",
    "                      'He': 1,\n",
    "                      'Li': 2,\n",
    "                      'Be': 2,\n",
    "                      'C': 2}\n",
    "\n",
    "D = np.array([[0.444635, 0.535328, 0.154329],\n",
    "              [0.700115, 0.399513, -0.0999672]])\n",
    "\n",
    "alpha = np.array([[0.109818, 0.405771, 2.22766],\n",
    "                  [0.0751386, 0.231031, 0.994203]])\n",
    "\n",
    "B = 0\n",
    "for atom in atoms:\n",
    "    B += max_quantum_number[atom]\n"
   ]
  },
  {
   "cell_type": "code",
   "execution_count": 83,
   "metadata": {},
   "outputs": [],
   "source": [
    "N = 2\n",
    "\n",
    "charge_dict = {'H': 1,\n",
    "               'He': 2,\n",
    "               'Li': 3,\n",
    "               'Be': 4,\n",
    "               'B': 5,\n",
    "               'C': 6,\n",
    "               'N': 7,\n",
    "               'O': 8,\n",
    "               'F': 9,\n",
    "               'Ne': 10}"
   ]
  },
  {
   "cell_type": "code",
   "execution_count": 84,
   "metadata": {},
   "outputs": [],
   "source": [
    "def gauss_product(gauss_A, gauss_B):\n",
    "    a, Ra = gauss_A\n",
    "    b, Rb = gauss_B\n",
    "    Ra, Rb = np.array(Ra), np.array(Rb)\n",
    "    p = a + b\n",
    "    diff = np.linalg.norm(Ra - Rb)**2\n",
    "    N = (4 * a * b / (np.pi**2))**0.75\n",
    "    K = N * np.exp(-a * b / p * diff)\n",
    "    Rp = (a * Ra + b * Rb) / p\n",
    "    \n",
    "    return p, diff, K, Rp"
   ]
  },
  {
   "cell_type": "code",
   "execution_count": 85,
   "metadata": {},
   "outputs": [],
   "source": [
    "def overlap(A, B):\n",
    "    p, diff, K, Rp = gauss_product(A, B)\n",
    "    prefactor = (np.pi / p)**1.5\n",
    "    return prefactor * K\n",
    "\n",
    "def kinetic(A, B):\n",
    "    p, diff, K, Rp = gauss_product(A, B)\n",
    "    prefactor = (np.pi / p)**1.5\n",
    "    \n",
    "    a, Ra = A\n",
    "    b, Rb = B\n",
    "    reduced_exponent = a * b / p\n",
    "    return reduced_exponent * (3 - 2 * reduced_exponent * diff) * prefactor * K"
   ]
  },
  {
   "cell_type": "code",
   "execution_count": 86,
   "metadata": {},
   "outputs": [],
   "source": [
    "def Fo(t):\n",
    "    if t == 0:\n",
    "        return 1\n",
    "    else:\n",
    "        return (0.5 * (np.pi / t)**0.5) * erf(t**0.5)"
   ]
  },
  {
   "cell_type": "code",
   "execution_count": 87,
   "metadata": {},
   "outputs": [],
   "source": [
    "def potential(A, B, atom_idx):\n",
    "    p, diff, K, Rp = gauss_product(A, B)\n",
    "    Rc = atom_coordinates[atom_idx]\n",
    "    Zc = charge_dict[atoms[atom_idx]]\n",
    "    \n",
    "    return (-2 * np.pi * Zc / p) * K * Fo(p * np.linalg.norm(Rp - Rc)**2)"
   ]
  },
  {
   "cell_type": "code",
   "execution_count": 88,
   "metadata": {},
   "outputs": [],
   "source": [
    "def multi(A, B, C, D):\n",
    "    p, diff_ab, K_ab, Rp = gauss_product(A, B)\n",
    "    q, diff_cd, K_cd, Rq = gauss_product(C, D)\n",
    "    multi_prefactor = 2 * np.pi**2.5 * (p * q * (p + q)**0.5)**-1\n",
    "    \n",
    "    return multi_prefactor * K_ab * K_cd * Fo(p * q / (p + q)*np.linalg.norm(Rp - Rq)**2)"
   ]
  },
  {
   "cell_type": "code",
   "execution_count": 89,
   "metadata": {},
   "outputs": [],
   "source": [
    "S = np.zeros((B, B))\n",
    "T = np.zeros((B, B))\n",
    "V = np.zeros((B, B))\n",
    "multi_electron_tensor = np.zeros((B, B, B, B))\n",
    "\n",
    "for idx_a, val_a in enumerate(atoms):\n",
    "    \n",
    "    Za = charge_dict[val_a]\n",
    "    Ra = atom_coordinates[idx_a]\n",
    "    \n",
    "    for m in range(max_quantum_number[val_a]):\n",
    "        d_vec_m = D[m]\n",
    "        zeta = zeta_dict[val_a][m]\n",
    "        alpha_vec_m = alpha[m] * zeta**2\n",
    "        \n",
    "        for p in range(STOnG):\n",
    "            for idx_b, val_b in enumerate(atoms):\n",
    "                Zb = charge_dict[val_b]\n",
    "                Rb = atom_coordinates[idx_b]\n",
    "                for n in range(max_quantum_number[val_b]):\n",
    "                    d_vec_n = D[n]\n",
    "                    zeta = zeta_dict[val_b][n]\n",
    "                    alpha_vec_n = alpha[n] * zeta**2\n",
    "                    \n",
    "                    for q in range(STOnG):\n",
    "                        a = (idx_a + 1) * (m + 1) - 1\n",
    "                        b = (idx_b + 1) * (n + 1) - 1\n",
    "                        \n",
    "                        S[a, b] += d_vec_m[p] * d_vec_n[q] * overlap((alpha_vec_m[p], Ra), (alpha_vec_n[p], Rb))\n",
    "                        T[a, b] += d_vec_m[p] * d_vec_n[q] * kinetic((alpha_vec_m[p], Ra), (alpha_vec_n[p], Rb))\n",
    "                        \n",
    "                        for i in range(number_of_atoms):\n",
    "                            V[a, b] += d_vec_m[p] * d_vec_n[q] * potential((alpha_vec_m[p], Ra), (alpha_vec_n[q], Rb), i)\n",
    "                            \n",
    "                        for idx_c, val_c in enumerate(atoms):\n",
    "                            Zc = charge_dict[val_c]\n",
    "                            Rc = atom_coordinates[idx_c]\n",
    "                            \n",
    "                            for k in range(max_quantum_number[val_c]):\n",
    "                                d_vec_k = D[k]\n",
    "                                zeta = zeta_dict[val_c][k]\n",
    "                                alpha_vec_k = alpha[k] * zeta**2\n",
    "                                \n",
    "                                for r in range(STOnG):\n",
    "                                    for idx_d, val_d in enumerate(atoms):\n",
    "                                        Zd = charge_dict[val_d]\n",
    "                                        Rd = atom_coordinates[idx_d]\n",
    "                                        \n",
    "                                        for l in range(max_quantum_number[val_d]):\n",
    "                                            d_vec_l = D[l]\n",
    "                                            zeta = zeta_dict[val_d][l]\n",
    "                                            alpha_vec_l = alpha[l] * zeta**2\n",
    "                                            \n",
    "                                            for s in range(STOnG):\n",
    "                                                c = (idx_c + 1) * (k + 1) - 1\n",
    "                                                d = (idx_d + 1) * (l + 1) - 1\n",
    "                                                multi_electron_tensor[a, b, c, d] += d_vec_m[p] * d_vec_n[q] * d_vec_k[r] * d_vec_l[s] * multi((alpha_vec_m[p], Ra), (alpha_vec_n[q], Rb), (alpha_vec_k[r], Rc), (alpha_vec_l[s], Rd))\n",
    "                        "
   ]
  },
  {
   "cell_type": "code",
   "execution_count": 90,
   "metadata": {},
   "outputs": [],
   "source": [
    "Hcore = T + V"
   ]
  },
  {
   "cell_type": "code",
   "execution_count": 91,
   "metadata": {},
   "outputs": [],
   "source": [
    "evalS, U = np.linalg.eig(S)\n",
    "diagS = np.dot(U.T, np.dot(S, U))\n",
    "diagS_minushalf = np.diag(np.diagonal(diagS)**-0.5)\n",
    "X = np.dot(U, np.dot(diagS_minushalf, U.T))"
   ]
  },
  {
   "cell_type": "code",
   "execution_count": 92,
   "metadata": {},
   "outputs": [],
   "source": [
    "def SD_successive_density_matrix_elements(Ptilde, P):\n",
    "    x = 0\n",
    "    for i in range(B):\n",
    "        for j in range(B):\n",
    "            x += B**-2 * (Ptilde[i, j] - P[i, j])**2\n",
    "    \n",
    "    return x**0.5"
   ]
  },
  {
   "cell_type": "code",
   "execution_count": 93,
   "metadata": {},
   "outputs": [],
   "source": [
    "P = np.zeros((B, B))\n",
    "P_previous = np.zeros((B, B))\n",
    "P_list = []\n",
    "\n",
    "threshold = 100\n",
    "while threshold > 10**-10:\n",
    "    \n",
    "    G = np.zeros((B, B))\n",
    "    for i in range(B):\n",
    "        for j in range(B):\n",
    "            for x in range(B):\n",
    "                for y in range(B):\n",
    "                    G[i, j] += P[x, y] * (multi_electron_tensor[i, j, y, x] - 0.5 * multi_electron_tensor[i, x, y, j])\n",
    "    Fock = Hcore + G\n",
    "\n",
    "    Fockprime = np.dot(X.T, np.dot(Fock, X))\n",
    "    evalFockprime, Cprime = np.linalg.eig(Fockprime)\n",
    "    \n",
    "    idx = evalFockprime.argsort()\n",
    "    evalFockprime = evalFockprime[idx]\n",
    "    Cprime = Cprime[:, idx]\n",
    "    \n",
    "    C = np.dot(X, Cprime)\n",
    "    \n",
    "    for i in range(B):\n",
    "        for j in range(B):\n",
    "            for a in range(int(N/2)):\n",
    "                P[i, j] = 2 * C[i, a] * C[j, a]\n",
    "                \n",
    "    P_list.append(P)\n",
    "    \n",
    "    threshold = SD_successive_density_matrix_elements(P_previous, P)\n",
    "    P_previous = P.copy()"
   ]
  },
  {
   "cell_type": "code",
   "execution_count": 94,
   "metadata": {},
   "outputs": [
    {
     "name": "stdout",
     "output_type": "stream",
     "text": [
      "STO3G Restricted Closed Shell HF algorithm took 6 iterations to converge\n",
      "\n",
      "\n",
      "The orbital energies are -0.6072595434455743 and 1.7553131710838055 Hartrees\n",
      "\n",
      "\n",
      "The orbital matrix is: \n",
      "\n",
      "[[ 0.40122123  0.86987445]\n",
      " [ 0.64360079 -0.70953368]]\n",
      "\n",
      "\n",
      "The density/bond order matrix is: \n",
      "\n",
      "[[0.32195695 0.5164526 ]\n",
      " [0.5164526  0.82844396]]\n"
     ]
    }
   ],
   "source": [
    "print('STO3G Restricted Closed Shell HF algorithm took {} iterations to converge'.format(len(P_list)))\n",
    "print('\\n')\n",
    "print('The orbital energies are {} and {} Hartrees'.format(evalFockprime[0], evalFockprime[1]))\n",
    "print('\\n')\n",
    "print(f'The orbital matrix is: \\n\\n{C}')\n",
    "print('\\n')\n",
    "print(f'The density/bond order matrix is: \\n\\n{P}')"
   ]
  },
  {
   "cell_type": "code",
   "execution_count": null,
   "metadata": {},
   "outputs": [],
   "source": []
  }
 ],
 "metadata": {
  "interpreter": {
   "hash": "63d735a0b43cc2c42b66c060d1cafa84e9329ba77a9d67246c4dc577f343791a"
  },
  "kernelspec": {
   "display_name": "Python 3.9.5 64-bit ('.env': venv)",
   "name": "python3"
  },
  "language_info": {
   "codemirror_mode": {
    "name": "ipython",
    "version": 3
   },
   "file_extension": ".py",
   "mimetype": "text/x-python",
   "name": "python",
   "nbconvert_exporter": "python",
   "pygments_lexer": "ipython3",
   "version": "3.9.5"
  },
  "orig_nbformat": 4
 },
 "nbformat": 4,
 "nbformat_minor": 2
}